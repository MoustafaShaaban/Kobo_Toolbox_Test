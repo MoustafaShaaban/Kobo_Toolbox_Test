{
 "cells": [
  {
   "cell_type": "markdown",
   "metadata": {},
   "source": [
    "## In this Notebook we will learn how to:\n",
    "    \n",
    "    * Consume Kobo Toolbox API using a python package called Requests.\n",
    "    * Use ArcGIS Python API To access a hosted feature layer.\n",
    "    * Automate overwriting the hosted feature layer when the data inside the API changes."
   ]
  },
  {
   "cell_type": "code",
   "execution_count": null,
   "metadata": {},
   "outputs": [],
   "source": [
    "# Importing the required libraries:\n",
    "import pandas\n",
    "import requests\n",
    "from requests.auth import HTTPBasicAuth\n",
    "from arcgis.gis import GIS\n",
    "from arcgis.features import FeatureLayerCollection"
   ]
  },
  {
   "cell_type": "code",
   "execution_count": null,
   "metadata": {},
   "outputs": [],
   "source": [
    "# Creating variables to store API url, username, and passwords used for Authenticating both the Kobo Toolbox API and ArcGIS Online Account\n",
    "\n",
    "# API Kobo Toolbox Form URL\n",
    "kobo_url = \"\"\n",
    "\n",
    "kobo_username = \"\"\n",
    "kobo_password = \"\"\n",
    "\n",
    "arcgis_username = \"\"\n",
    "arcgis_password = \"\""
   ]
  },
  {
   "cell_type": "code",
   "execution_count": null,
   "metadata": {},
   "outputs": [],
   "source": [
    "# Create a GET request to the API using Basic Authtentication (Username and Password):\n",
    "\n",
    "response = requests.get(kobo_url, auth = HTTPBasicAuth(kobo_username, kobo_password))"
   ]
  },
  {
   "cell_type": "code",
   "execution_count": null,
   "metadata": {},
   "outputs": [],
   "source": [
    "# Save the JSON Response data to a variable (Will be used the create a Pandas DataFrame):\n",
    "\n",
    "response_data = response.json()"
   ]
  },
  {
   "cell_type": "code",
   "execution_count": null,
   "metadata": {},
   "outputs": [],
   "source": [
    "# Create a dataframe with Pandas:\n",
    "df = pandas.DataFrame(response_data)"
   ]
  },
  {
   "cell_type": "code",
   "execution_count": null,
   "metadata": {},
   "outputs": [],
   "source": [
    "# Print the first 5 rows of the data:\n",
    "\n",
    "df.head()"
   ]
  },
  {
   "cell_type": "code",
   "execution_count": null,
   "metadata": {},
   "outputs": [],
   "source": [
    "# Create a subset of the data (we will use the following columns in the web map):\n",
    "\n",
    "data = df[['Store_Name', 'Survey_Time', 'Store_Expenses', 'Store_Sales', 'Store_Profits', '_geolocation']]"
   ]
  },
  {
   "cell_type": "code",
   "execution_count": null,
   "metadata": {},
   "outputs": [],
   "source": [
    "# Print the first 5 rows of our new data subset:\n",
    "\n",
    "data.head()"
   ]
  },
  {
   "cell_type": "code",
   "execution_count": null,
   "metadata": {},
   "outputs": [],
   "source": [
    "# Save the data in a CSV file without an index and with a Comma separator between each data column:\n",
    "\n",
    "data.to_csv('data.csv', index = False, sep = \",\")"
   ]
  },
  {
   "cell_type": "code",
   "execution_count": null,
   "metadata": {},
   "outputs": [],
   "source": [
    "# Use the GIS Python module and Authenticate using ArcGIS Online account credentials:\n",
    "\n",
    "gis = GIS(\n",
    "    # url = None means that we are using ArcGIS Online:\n",
    "    \n",
    "    url = None,\n",
    "    username = arcgis_username,\n",
    "    password = arcgis_password\n",
    ")"
   ]
  },
  {
   "cell_type": "code",
   "execution_count": null,
   "metadata": {},
   "outputs": [],
   "source": [
    "# Get the Hosted Feature Layer (by passing the feature layer Unique ID)\n",
    "\n",
    "item = gis.content.get(\"\")"
   ]
  },
  {
   "cell_type": "code",
   "execution_count": null,
   "metadata": {},
   "outputs": [],
   "source": [
    "# Create a Feature Layer Collection from the retrieved layer:\n",
    "\n",
    "layer = FeatureLayerCollection.fromitem(item)"
   ]
  },
  {
   "cell_type": "code",
   "execution_count": null,
   "metadata": {},
   "outputs": [],
   "source": [
    "# Overwrite the feature layer after any change:\n",
    "\n",
    "layer.manager.overwrite('./new_data.csv')"
   ]
  }
 ],
 "metadata": {
  "kernelspec": {
   "display_name": "Python 3.9.13 ('ArcGIS_Python_API')",
   "language": "python",
   "name": "python3"
  },
  "language_info": {
   "codemirror_mode": {
    "name": "ipython",
    "version": 3
   },
   "file_extension": ".py",
   "mimetype": "text/x-python",
   "name": "python",
   "nbconvert_exporter": "python",
   "pygments_lexer": "ipython3",
   "version": "3.9.13"
  },
  "vscode": {
   "interpreter": {
    "hash": "97240759bd50294f73010f76f71ead048538fca66ad2906bf9966a309575a343"
   }
  }
 },
 "nbformat": 4,
 "nbformat_minor": 2
}
